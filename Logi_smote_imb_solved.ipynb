{
 "cells": [
  {
   "cell_type": "code",
   "execution_count": 47,
   "id": "d87af2b1",
   "metadata": {},
   "outputs": [],
   "source": [
    "import pandas as pd \n",
    "import numpy as np\n",
    "import matplotlib.pyplot as plt\n"
   ]
  },
  {
   "cell_type": "code",
   "execution_count": 48,
   "id": "ad8e4f8b",
   "metadata": {},
   "outputs": [],
   "source": [
    "data = pd.read_csv('https://raw.githubusercontent.com/JoosKorstanje/datasets/main/sales_data.csv')"
   ]
  },
  {
   "cell_type": "code",
   "execution_count": 49,
   "id": "38b10c82",
   "metadata": {},
   "outputs": [
    {
     "data": {
      "text/html": [
       "<div>\n",
       "<style scoped>\n",
       "    .dataframe tbody tr th:only-of-type {\n",
       "        vertical-align: middle;\n",
       "    }\n",
       "\n",
       "    .dataframe tbody tr th {\n",
       "        vertical-align: top;\n",
       "    }\n",
       "\n",
       "    .dataframe thead th {\n",
       "        text-align: right;\n",
       "    }\n",
       "</style>\n",
       "<table border=\"1\" class=\"dataframe\">\n",
       "  <thead>\n",
       "    <tr style=\"text-align: right;\">\n",
       "      <th></th>\n",
       "      <th>time_on_page</th>\n",
       "      <th>pages_viewed</th>\n",
       "      <th>interest_ski</th>\n",
       "      <th>interest_climb</th>\n",
       "      <th>buy</th>\n",
       "    </tr>\n",
       "  </thead>\n",
       "  <tbody>\n",
       "    <tr>\n",
       "      <th>0</th>\n",
       "      <td>282.0</td>\n",
       "      <td>3.0</td>\n",
       "      <td>0</td>\n",
       "      <td>1</td>\n",
       "      <td>1</td>\n",
       "    </tr>\n",
       "    <tr>\n",
       "      <th>1</th>\n",
       "      <td>223.0</td>\n",
       "      <td>3.0</td>\n",
       "      <td>0</td>\n",
       "      <td>1</td>\n",
       "      <td>1</td>\n",
       "    </tr>\n",
       "    <tr>\n",
       "      <th>2</th>\n",
       "      <td>285.0</td>\n",
       "      <td>3.0</td>\n",
       "      <td>1</td>\n",
       "      <td>1</td>\n",
       "      <td>1</td>\n",
       "    </tr>\n",
       "    <tr>\n",
       "      <th>3</th>\n",
       "      <td>250.0</td>\n",
       "      <td>3.0</td>\n",
       "      <td>0</td>\n",
       "      <td>1</td>\n",
       "      <td>1</td>\n",
       "    </tr>\n",
       "    <tr>\n",
       "      <th>4</th>\n",
       "      <td>271.0</td>\n",
       "      <td>2.0</td>\n",
       "      <td>1</td>\n",
       "      <td>1</td>\n",
       "      <td>1</td>\n",
       "    </tr>\n",
       "    <tr>\n",
       "      <th>...</th>\n",
       "      <td>...</td>\n",
       "      <td>...</td>\n",
       "      <td>...</td>\n",
       "      <td>...</td>\n",
       "      <td>...</td>\n",
       "    </tr>\n",
       "    <tr>\n",
       "      <th>995</th>\n",
       "      <td>171.0</td>\n",
       "      <td>2.0</td>\n",
       "      <td>0</td>\n",
       "      <td>0</td>\n",
       "      <td>0</td>\n",
       "    </tr>\n",
       "    <tr>\n",
       "      <th>996</th>\n",
       "      <td>101.0</td>\n",
       "      <td>2.0</td>\n",
       "      <td>1</td>\n",
       "      <td>1</td>\n",
       "      <td>0</td>\n",
       "    </tr>\n",
       "    <tr>\n",
       "      <th>997</th>\n",
       "      <td>260.0</td>\n",
       "      <td>3.0</td>\n",
       "      <td>0</td>\n",
       "      <td>0</td>\n",
       "      <td>0</td>\n",
       "    </tr>\n",
       "    <tr>\n",
       "      <th>998</th>\n",
       "      <td>208.0</td>\n",
       "      <td>3.0</td>\n",
       "      <td>0</td>\n",
       "      <td>1</td>\n",
       "      <td>0</td>\n",
       "    </tr>\n",
       "    <tr>\n",
       "      <th>999</th>\n",
       "      <td>134.0</td>\n",
       "      <td>2.0</td>\n",
       "      <td>0</td>\n",
       "      <td>1</td>\n",
       "      <td>0</td>\n",
       "    </tr>\n",
       "  </tbody>\n",
       "</table>\n",
       "<p>1000 rows × 5 columns</p>\n",
       "</div>"
      ],
      "text/plain": [
       "     time_on_page  pages_viewed  interest_ski  interest_climb  buy\n",
       "0           282.0           3.0             0               1    1\n",
       "1           223.0           3.0             0               1    1\n",
       "2           285.0           3.0             1               1    1\n",
       "3           250.0           3.0             0               1    1\n",
       "4           271.0           2.0             1               1    1\n",
       "..            ...           ...           ...             ...  ...\n",
       "995         171.0           2.0             0               0    0\n",
       "996         101.0           2.0             1               1    0\n",
       "997         260.0           3.0             0               0    0\n",
       "998         208.0           3.0             0               1    0\n",
       "999         134.0           2.0             0               1    0\n",
       "\n",
       "[1000 rows x 5 columns]"
      ]
     },
     "execution_count": 49,
     "metadata": {},
     "output_type": "execute_result"
    }
   ],
   "source": [
    "data"
   ]
  },
  {
   "cell_type": "code",
   "execution_count": 50,
   "id": "82dd3704",
   "metadata": {},
   "outputs": [
    {
     "data": {
      "text/plain": [
       "(1000, 5)"
      ]
     },
     "execution_count": 50,
     "metadata": {},
     "output_type": "execute_result"
    }
   ],
   "source": [
    "data.shape"
   ]
  },
  {
   "cell_type": "code",
   "execution_count": 51,
   "id": "e258caec",
   "metadata": {},
   "outputs": [
    {
     "data": {
      "text/plain": [
       "0    950\n",
       "1     50\n",
       "Name: buy, dtype: int64"
      ]
     },
     "execution_count": 51,
     "metadata": {},
     "output_type": "execute_result"
    }
   ],
   "source": [
    "data.buy.value_counts()"
   ]
  },
  {
   "cell_type": "code",
   "execution_count": 52,
   "id": "bd272fb2",
   "metadata": {},
   "outputs": [
    {
     "data": {
      "text/plain": [
       "<AxesSubplot:>"
      ]
     },
     "execution_count": 52,
     "metadata": {},
     "output_type": "execute_result"
    },
    {
     "data": {
      "image/png": "[encoded data removed]",
      "text/plain": [
       "<Figure size 640x480 with 1 Axes>"
      ]
     },
     "metadata": {},
     "output_type": "display_data"
    }
   ],
   "source": [
    "data.buy.value_counts().plot(kind = 'bar')"
   ]
  },
  {
   "cell_type": "code",
   "execution_count": 53,
   "id": "0d1609ec",
   "metadata": {},
   "outputs": [
    {
     "data": {
      "text/plain": [
       "0    605\n",
       "1    395\n",
       "Name: interest_climb, dtype: int64"
      ]
     },
     "execution_count": 53,
     "metadata": {},
     "output_type": "execute_result"
    }
   ],
   "source": [
    "data.interest_climb.value_counts()"
   ]
  },
  {
   "cell_type": "code",
   "execution_count": 54,
   "id": "4f37a1e6",
   "metadata": {},
   "outputs": [],
   "source": [
    "X = data.drop('buy',axis = 1)\n",
    "y = data['buy']"
   ]
  },
  {
   "cell_type": "code",
   "execution_count": 55,
   "id": "ccde9e8d",
   "metadata": {},
   "outputs": [
    {
     "data": {
      "text/plain": [
       "0      1\n",
       "1      1\n",
       "2      1\n",
       "3      1\n",
       "4      1\n",
       "      ..\n",
       "995    0\n",
       "996    0\n",
       "997    0\n",
       "998    0\n",
       "999    0\n",
       "Name: buy, Length: 1000, dtype: int64"
      ]
     },
     "execution_count": 55,
     "metadata": {},
     "output_type": "execute_result"
    }
   ],
   "source": [
    "y"
   ]
  },
  {
   "cell_type": "code",
   "execution_count": 56,
   "id": "4e938d3b",
   "metadata": {},
   "outputs": [],
   "source": [
    "from sklearn.model_selection import train_test_split\n",
    "X_train,X_test,y_train,y_test = train_test_split(X,y,test_size=0.3,random_state=42)"
   ]
  },
  {
   "cell_type": "code",
   "execution_count": 57,
   "id": "660cdf14",
   "metadata": {},
   "outputs": [
    {
     "data": {
      "text/plain": [
       "0    665\n",
       "1     35\n",
       "Name: buy, dtype: int64"
      ]
     },
     "execution_count": 57,
     "metadata": {},
     "output_type": "execute_result"
    }
   ],
   "source": [
    "y_train.value_counts()"
   ]
  },
  {
   "cell_type": "code",
   "execution_count": 58,
   "id": "ccf16d88",
   "metadata": {},
   "outputs": [],
   "source": [
    "from sklearn.linear_model import LogisticRegression"
   ]
  },
  {
   "cell_type": "code",
   "execution_count": 59,
   "id": "a71199c5",
   "metadata": {},
   "outputs": [],
   "source": [
    "logi = LogisticRegression()"
   ]
  },
  {
   "cell_type": "code",
   "execution_count": 60,
   "id": "91962407",
   "metadata": {},
   "outputs": [
    {
     "data": {
      "text/plain": [
       "LogisticRegression()"
      ]
     },
     "execution_count": 60,
     "metadata": {},
     "output_type": "execute_result"
    }
   ],
   "source": [
    "logi.fit(X_train,y_train)"
   ]
  },
  {
   "cell_type": "code",
   "execution_count": 61,
   "id": "58405ee5",
   "metadata": {},
   "outputs": [],
   "source": [
    "preds = logi.predict(X_test)"
   ]
  },
  {
   "cell_type": "code",
   "execution_count": 62,
   "id": "addbd807",
   "metadata": {},
   "outputs": [],
   "source": [
    "from sklearn.metrics import confusion_matrix,accuracy_score,precision_score,recall_score,classification_report"
   ]
  },
  {
   "cell_type": "code",
   "execution_count": 63,
   "id": "bd5305b9",
   "metadata": {},
   "outputs": [
    {
     "data": {
      "text/plain": [
       "array([[281,   4],\n",
       "       [ 12,   3]], dtype=int64)"
      ]
     },
     "execution_count": 63,
     "metadata": {},
     "output_type": "execute_result"
    }
   ],
   "source": [
    "confusion_matrix(y_test,preds)"
   ]
  },
  {
   "cell_type": "code",
   "execution_count": 64,
   "id": "2367f75a",
   "metadata": {},
   "outputs": [
    {
     "data": {
      "text/plain": [
       "0.9466666666666667"
      ]
     },
     "execution_count": 64,
     "metadata": {},
     "output_type": "execute_result"
    }
   ],
   "source": [
    "accuracy_score(y_test,preds)"
   ]
  },
  {
   "cell_type": "code",
   "execution_count": 65,
   "id": "34c57533",
   "metadata": {},
   "outputs": [
    {
     "data": {
      "text/plain": [
       "0.42857142857142855"
      ]
     },
     "execution_count": 65,
     "metadata": {},
     "output_type": "execute_result"
    }
   ],
   "source": [
    "precision_score(y_test,preds)"
   ]
  },
  {
   "cell_type": "code",
   "execution_count": 66,
   "id": "4b28e6bb",
   "metadata": {},
   "outputs": [
    {
     "data": {
      "text/plain": [
       "0.2"
      ]
     },
     "execution_count": 66,
     "metadata": {},
     "output_type": "execute_result"
    }
   ],
   "source": [
    "recall_score(y_test,preds)"
   ]
  },
  {
   "cell_type": "code",
   "execution_count": 67,
   "id": "43c10473",
   "metadata": {},
   "outputs": [
    {
     "data": {
      "text/plain": [
       "(300,)"
      ]
     },
     "execution_count": 67,
     "metadata": {},
     "output_type": "execute_result"
    }
   ],
   "source": [
    "y_test.shape"
   ]
  },
  {
   "cell_type": "code",
   "execution_count": 68,
   "id": "63fa385b",
   "metadata": {},
   "outputs": [
    {
     "name": "stdout",
     "output_type": "stream",
     "text": [
      "              precision    recall  f1-score   support\n",
      "\n",
      "           0       0.96      0.99      0.97       285\n",
      "           1       0.43      0.20      0.27        15\n",
      "\n",
      "    accuracy                           0.95       300\n",
      "   macro avg       0.69      0.59      0.62       300\n",
      "weighted avg       0.93      0.95      0.94       300\n",
      "\n"
     ]
    }
   ],
   "source": [
    "print(classification_report(y_test,preds))"
   ]
  },
  {
   "cell_type": "markdown",
   "id": "3df04713",
   "metadata": {},
   "source": [
    "# SMOTE"
   ]
  },
  {
   "cell_type": "code",
   "execution_count": 69,
   "id": "64d64d8e",
   "metadata": {},
   "outputs": [],
   "source": [
    "from imblearn.over_sampling import SMOTE\n",
    "\n",
    "smote = SMOTE(random_state=42)\n",
    "\n",
    "X_resampled , Y_resampled = smote.fit_resample(X_train,y_train)"
   ]
  },
  {
   "cell_type": "code",
   "execution_count": 70,
   "id": "c4e226d9",
   "metadata": {},
   "outputs": [
    {
     "data": {
      "text/plain": [
       "(1330, 4)"
      ]
     },
     "execution_count": 70,
     "metadata": {},
     "output_type": "execute_result"
    }
   ],
   "source": [
    "X_resampled.shape"
   ]
  },
  {
   "cell_type": "code",
   "execution_count": 71,
   "id": "70697938",
   "metadata": {},
   "outputs": [
    {
     "data": {
      "text/plain": [
       "0    665\n",
       "1    665\n",
       "Name: buy, dtype: int64"
      ]
     },
     "execution_count": 71,
     "metadata": {},
     "output_type": "execute_result"
    }
   ],
   "source": [
    "Y_resampled.value_counts()"
   ]
  },
  {
   "cell_type": "code",
   "execution_count": 72,
   "id": "d8221840",
   "metadata": {},
   "outputs": [
    {
     "data": {
      "text/plain": [
       "LogisticRegression(random_state=42)"
      ]
     },
     "execution_count": 72,
     "metadata": {},
     "output_type": "execute_result"
    }
   ],
   "source": [
    "from sklearn.linear_model import LogisticRegression\n",
    "\n",
    "smote_model = LogisticRegression(random_state=42)\n",
    "\n",
    "smote_model.fit(X_resampled,Y_resampled)"
   ]
  },
  {
   "cell_type": "code",
   "execution_count": 74,
   "id": "a689103d",
   "metadata": {},
   "outputs": [],
   "source": [
    "y_pred = smote_model.predict(X_test)"
   ]
  },
  {
   "cell_type": "code",
   "execution_count": 75,
   "id": "21621213",
   "metadata": {},
   "outputs": [
    {
     "name": "stdout",
     "output_type": "stream",
     "text": [
      "              precision    recall  f1-score   support\n",
      "\n",
      "           0       0.98      0.91      0.94       285\n",
      "           1       0.25      0.60      0.35        15\n",
      "\n",
      "    accuracy                           0.89       300\n",
      "   macro avg       0.61      0.75      0.65       300\n",
      "weighted avg       0.94      0.89      0.91       300\n",
      "\n"
     ]
    }
   ],
   "source": [
    "from sklearn.metrics import classification_report\n",
    "\n",
    "print(classification_report(y_test,y_pred))"
   ]
  },
  {
   "cell_type": "code",
   "execution_count": 77,
   "id": "f865e132",
   "metadata": {},
   "outputs": [
    {
     "data": {
      "text/html": [
       "<div>\n",
       "<style scoped>\n",
       "    .dataframe tbody tr th:only-of-type {\n",
       "        vertical-align: middle;\n",
       "    }\n",
       "\n",
       "    .dataframe tbody tr th {\n",
       "        vertical-align: top;\n",
       "    }\n",
       "\n",
       "    .dataframe thead th {\n",
       "        text-align: right;\n",
       "    }\n",
       "</style>\n",
       "<table border=\"1\" class=\"dataframe\">\n",
       "  <thead>\n",
       "    <tr style=\"text-align: right;\">\n",
       "      <th></th>\n",
       "      <th>time_on_page</th>\n",
       "      <th>pages_viewed</th>\n",
       "      <th>interest_ski</th>\n",
       "      <th>interest_climb</th>\n",
       "    </tr>\n",
       "  </thead>\n",
       "  <tbody>\n",
       "    <tr>\n",
       "      <th>29</th>\n",
       "      <td>164.0</td>\n",
       "      <td>2.0</td>\n",
       "      <td>0</td>\n",
       "      <td>1</td>\n",
       "    </tr>\n",
       "    <tr>\n",
       "      <th>32</th>\n",
       "      <td>157.0</td>\n",
       "      <td>2.0</td>\n",
       "      <td>0</td>\n",
       "      <td>0</td>\n",
       "    </tr>\n",
       "    <tr>\n",
       "      <th>111</th>\n",
       "      <td>175.0</td>\n",
       "      <td>2.0</td>\n",
       "      <td>0</td>\n",
       "      <td>0</td>\n",
       "    </tr>\n",
       "    <tr>\n",
       "      <th>114</th>\n",
       "      <td>143.0</td>\n",
       "      <td>2.0</td>\n",
       "      <td>0</td>\n",
       "      <td>1</td>\n",
       "    </tr>\n",
       "    <tr>\n",
       "      <th>120</th>\n",
       "      <td>101.0</td>\n",
       "      <td>2.0</td>\n",
       "      <td>0</td>\n",
       "      <td>0</td>\n",
       "    </tr>\n",
       "    <tr>\n",
       "      <th>...</th>\n",
       "      <td>...</td>\n",
       "      <td>...</td>\n",
       "      <td>...</td>\n",
       "      <td>...</td>\n",
       "    </tr>\n",
       "    <tr>\n",
       "      <th>1145</th>\n",
       "      <td>260.0</td>\n",
       "      <td>3.0</td>\n",
       "      <td>1</td>\n",
       "      <td>1</td>\n",
       "    </tr>\n",
       "    <tr>\n",
       "      <th>1167</th>\n",
       "      <td>196.0</td>\n",
       "      <td>4.0</td>\n",
       "      <td>0</td>\n",
       "      <td>1</td>\n",
       "    </tr>\n",
       "    <tr>\n",
       "      <th>1236</th>\n",
       "      <td>260.0</td>\n",
       "      <td>3.0</td>\n",
       "      <td>1</td>\n",
       "      <td>1</td>\n",
       "    </tr>\n",
       "    <tr>\n",
       "      <th>1290</th>\n",
       "      <td>260.0</td>\n",
       "      <td>3.0</td>\n",
       "      <td>1</td>\n",
       "      <td>1</td>\n",
       "    </tr>\n",
       "    <tr>\n",
       "      <th>1320</th>\n",
       "      <td>196.0</td>\n",
       "      <td>4.0</td>\n",
       "      <td>0</td>\n",
       "      <td>1</td>\n",
       "    </tr>\n",
       "  </tbody>\n",
       "</table>\n",
       "<p>142 rows × 4 columns</p>\n",
       "</div>"
      ],
      "text/plain": [
       "      time_on_page  pages_viewed  interest_ski  interest_climb\n",
       "29           164.0           2.0             0               1\n",
       "32           157.0           2.0             0               0\n",
       "111          175.0           2.0             0               0\n",
       "114          143.0           2.0             0               1\n",
       "120          101.0           2.0             0               0\n",
       "...            ...           ...           ...             ...\n",
       "1145         260.0           3.0             1               1\n",
       "1167         196.0           4.0             0               1\n",
       "1236         260.0           3.0             1               1\n",
       "1290         260.0           3.0             1               1\n",
       "1320         196.0           4.0             0               1\n",
       "\n",
       "[142 rows x 4 columns]"
      ]
     },
     "execution_count": 77,
     "metadata": {},
     "output_type": "execute_result"
    }
   ],
   "source": [
    "X_resampled[X_resampled.duplicated()]"
   ]
  },
  {
   "cell_type": "markdown",
   "id": "3b934c56",
   "metadata": {},
   "source": [
    "# Threshold adjustment on smote"
   ]
  },
  {
   "cell_type": "code",
   "execution_count": 81,
   "id": "d0e07583",
   "metadata": {},
   "outputs": [
    {
     "data": {
      "text/plain": [
       "array([[4.93439089e-01, 5.06560911e-01],\n",
       "       [9.95199824e-01, 4.80017642e-03],\n",
       "       [9.21733583e-01, 7.82664174e-02],\n",
       "       [9.83760418e-01, 1.62395823e-02],\n",
       "       [8.94389187e-01, 1.05610813e-01],\n",
       "       [8.94984517e-01, 1.05015483e-01],\n",
       "       [9.93743942e-01, 6.25605761e-03],\n",
       "       [9.99320951e-01, 6.79049354e-04],\n",
       "       [9.99096710e-01, 9.03289949e-04],\n",
       "       [9.99523854e-01, 4.76146021e-04],\n",
       "       [7.89944060e-01, 2.10055940e-01],\n",
       "       [9.84551737e-01, 1.54482631e-02],\n",
       "       [9.87174047e-01, 1.28259529e-02],\n",
       "       [9.93743942e-01, 6.25605761e-03],\n",
       "       [9.92992725e-01, 7.00727514e-03],\n",
       "       [9.89389104e-01, 1.06108956e-02],\n",
       "       [9.71922053e-01, 2.80779475e-02],\n",
       "       [9.88102745e-01, 1.18972552e-02],\n",
       "       [9.99844741e-01, 1.55258963e-04],\n",
       "       [9.88342473e-01, 1.16575269e-02],\n",
       "       [9.73438416e-01, 2.65615842e-02],\n",
       "       [9.79553848e-01, 2.04461516e-02],\n",
       "       [9.72093965e-01, 2.79060350e-02],\n",
       "       [9.01364950e-01, 9.86350505e-02],\n",
       "       [9.99982280e-01, 1.77203873e-05],\n",
       "       [7.38999195e-01, 2.61000805e-01],\n",
       "       [5.13993757e-01, 4.86006243e-01],\n",
       "       [9.97428191e-01, 2.57180905e-03],\n",
       "       [1.57710832e-01, 8.42289168e-01],\n",
       "       [9.69206140e-01, 3.07938597e-02],\n",
       "       [6.91287440e-01, 3.08712560e-01],\n",
       "       [9.84235298e-01, 1.57647016e-02],\n",
       "       [8.67168310e-01, 1.32831690e-01],\n",
       "       [9.80994406e-01, 1.90055940e-02],\n",
       "       [9.88964949e-01, 1.10350507e-02],\n",
       "       [4.64911037e-01, 5.35088963e-01],\n",
       "       [1.45481488e-01, 8.54518512e-01],\n",
       "       [8.25331917e-01, 1.74668083e-01],\n",
       "       [9.99750204e-01, 2.49796219e-04],\n",
       "       [9.64324216e-01, 3.56757836e-02],\n",
       "       [9.90143680e-01, 9.85631998e-03],\n",
       "       [8.81792777e-01, 1.18207223e-01],\n",
       "       [9.64594691e-01, 3.54053088e-02],\n",
       "       [9.90508190e-01, 9.49180977e-03],\n",
       "       [9.99822906e-01, 1.77094050e-04],\n",
       "       [9.10024248e-01, 8.99757522e-02],\n",
       "       [9.83633873e-01, 1.63661269e-02],\n",
       "       [8.89652218e-01, 1.10347782e-01],\n",
       "       [7.35276484e-01, 2.64723516e-01],\n",
       "       [9.92981775e-01, 7.01822482e-03],\n",
       "       [9.19061125e-01, 8.09388752e-02],\n",
       "       [9.80756030e-01, 1.92439703e-02],\n",
       "       [9.98126138e-01, 1.87386208e-03],\n",
       "       [9.60422741e-01, 3.95772585e-02],\n",
       "       [1.25458829e-01, 8.74541171e-01],\n",
       "       [2.52752202e-01, 7.47247798e-01],\n",
       "       [9.96028172e-01, 3.97182800e-03],\n",
       "       [6.02598260e-02, 9.39740174e-01],\n",
       "       [8.38624248e-01, 1.61375752e-01],\n",
       "       [9.87012152e-01, 1.29878477e-02],\n",
       "       [3.69994962e-01, 6.30005038e-01],\n",
       "       [9.73107867e-01, 2.68921330e-02],\n",
       "       [9.95282484e-01, 4.71751570e-03],\n",
       "       [9.99630490e-01, 3.69509773e-04],\n",
       "       [9.93493929e-01, 6.50607136e-03],\n",
       "       [9.89372584e-01, 1.06274161e-02],\n",
       "       [9.56644147e-01, 4.33558535e-02],\n",
       "       [9.98625682e-01, 1.37431754e-03],\n",
       "       [9.97118626e-01, 2.88137387e-03],\n",
       "       [8.25304977e-01, 1.74695023e-01],\n",
       "       [9.87193941e-01, 1.28060590e-02],\n",
       "       [9.98240715e-01, 1.75928486e-03],\n",
       "       [9.97952080e-01, 2.04792030e-03],\n",
       "       [9.54766107e-01, 4.52338933e-02],\n",
       "       [5.50687851e-01, 4.49312149e-01],\n",
       "       [9.96516254e-01, 3.48374553e-03],\n",
       "       [9.95763481e-01, 4.23651949e-03],\n",
       "       [8.89652218e-01, 1.10347782e-01],\n",
       "       [9.96645890e-01, 3.35410997e-03],\n",
       "       [9.82029871e-01, 1.79701286e-02],\n",
       "       [9.76816720e-01, 2.31832797e-02],\n",
       "       [9.06859581e-01, 9.31404190e-02],\n",
       "       [9.96949897e-01, 3.05010329e-03],\n",
       "       [1.13618184e-01, 8.86381816e-01],\n",
       "       [9.68633206e-01, 3.13667941e-02],\n",
       "       [3.65206530e-01, 6.34793470e-01],\n",
       "       [1.11560205e-01, 8.88439795e-01],\n",
       "       [9.96651142e-01, 3.34885768e-03],\n",
       "       [9.90757940e-01, 9.24205987e-03],\n",
       "       [9.73438416e-01, 2.65615842e-02],\n",
       "       [9.98276521e-01, 1.72347917e-03],\n",
       "       [8.55064690e-01, 1.44935310e-01],\n",
       "       [9.49572001e-01, 5.04279989e-02],\n",
       "       [1.09688360e-01, 8.90311640e-01],\n",
       "       [9.59448064e-01, 4.05519355e-02],\n",
       "       [9.99832729e-01, 1.67270675e-04],\n",
       "       [9.32833470e-01, 6.71665298e-02],\n",
       "       [9.84235298e-01, 1.57647016e-02],\n",
       "       [4.79134754e-01, 5.20865246e-01],\n",
       "       [9.55580717e-01, 4.44192829e-02],\n",
       "       [8.29859437e-01, 1.70140563e-01],\n",
       "       [9.99558730e-01, 4.41269666e-04],\n",
       "       [8.91354021e-01, 1.08645979e-01],\n",
       "       [9.95868296e-01, 4.13170429e-03],\n",
       "       [9.89372584e-01, 1.06274161e-02],\n",
       "       [3.95132703e-01, 6.04867297e-01],\n",
       "       [1.78997601e-01, 8.21002399e-01],\n",
       "       [9.98105196e-01, 1.89480443e-03],\n",
       "       [9.99781688e-01, 2.18311681e-04],\n",
       "       [6.30230931e-01, 3.69769069e-01],\n",
       "       [9.94308414e-01, 5.69158611e-03],\n",
       "       [9.63884453e-01, 3.61155472e-02],\n",
       "       [9.77559097e-01, 2.24409031e-02],\n",
       "       [9.97523976e-01, 2.47602374e-03],\n",
       "       [5.85640386e-02, 9.41435961e-01],\n",
       "       [9.95370979e-01, 4.62902107e-03],\n",
       "       [9.95378218e-01, 4.62178163e-03],\n",
       "       [9.95378218e-01, 4.62178163e-03],\n",
       "       [9.93492721e-01, 6.50727932e-03],\n",
       "       [9.10152915e-01, 8.98470850e-02],\n",
       "       [9.72093965e-01, 2.79060350e-02],\n",
       "       [9.50771873e-01, 4.92281273e-02],\n",
       "       [9.98907826e-01, 1.09217444e-03],\n",
       "       [6.17003095e-02, 9.38299691e-01],\n",
       "       [9.98369729e-01, 1.63027135e-03],\n",
       "       [9.94079724e-01, 5.92027563e-03],\n",
       "       [9.62991743e-01, 3.70082570e-02],\n",
       "       [9.98987779e-01, 1.01222143e-03],\n",
       "       [9.91850112e-01, 8.14988778e-03],\n",
       "       [8.77748463e-01, 1.22251537e-01],\n",
       "       [9.99768504e-01, 2.31495509e-04],\n",
       "       [9.93252589e-01, 6.74741139e-03],\n",
       "       [9.56644147e-01, 4.33558535e-02],\n",
       "       [9.85096875e-01, 1.49031245e-02],\n",
       "       [9.94822220e-01, 5.17778037e-03],\n",
       "       [9.91523490e-01, 8.47651048e-03],\n",
       "       [8.38624248e-01, 1.61375752e-01],\n",
       "       [9.52236072e-01, 4.77639279e-02],\n",
       "       [3.18527236e-01, 6.81472764e-01],\n",
       "       [9.75790380e-01, 2.42096201e-02],\n",
       "       [9.74561866e-01, 2.54381341e-02],\n",
       "       [9.98789453e-01, 1.21054661e-03],\n",
       "       [8.62723677e-01, 1.37276323e-01],\n",
       "       [9.90143680e-01, 9.85631998e-03],\n",
       "       [9.77102754e-01, 2.28972461e-02],\n",
       "       [9.98016290e-01, 1.98371032e-03],\n",
       "       [9.97011338e-01, 2.98866172e-03],\n",
       "       [7.31284479e-01, 2.68715521e-01],\n",
       "       [9.73107867e-01, 2.68921330e-02],\n",
       "       [9.70864781e-01, 2.91352191e-02],\n",
       "       [8.05540535e-01, 1.94459465e-01],\n",
       "       [9.77697288e-01, 2.23027125e-02],\n",
       "       [9.83633873e-01, 1.63661269e-02],\n",
       "       [4.01160963e-01, 5.98839037e-01],\n",
       "       [9.99566362e-01, 4.33638142e-04],\n",
       "       [9.50475299e-01, 4.95247007e-02],\n",
       "       [9.99669821e-01, 3.30178700e-04],\n",
       "       [9.98065837e-01, 1.93416255e-03],\n",
       "       [9.70321761e-01, 2.96782386e-02],\n",
       "       [5.64766019e-01, 4.35233981e-01],\n",
       "       [9.31631542e-01, 6.83684579e-02],\n",
       "       [9.98679003e-01, 1.32099679e-03],\n",
       "       [9.21390520e-01, 7.86094799e-02],\n",
       "       [9.72478739e-01, 2.75212612e-02],\n",
       "       [9.83937354e-01, 1.60626456e-02],\n",
       "       [9.94511178e-01, 5.48882192e-03],\n",
       "       [7.38963151e-01, 2.61036849e-01],\n",
       "       [7.63575245e-01, 2.36424755e-01],\n",
       "       [9.95192306e-01, 4.80769394e-03],\n",
       "       [9.92188882e-01, 7.81111765e-03],\n",
       "       [9.87432251e-01, 1.25677495e-02],\n",
       "       [9.99455205e-01, 5.44794725e-04],\n",
       "       [9.99816039e-01, 1.83961358e-04],\n",
       "       [4.55848751e-01, 5.44151249e-01],\n",
       "       [9.61611484e-01, 3.83885164e-02],\n",
       "       [9.93743942e-01, 6.25605761e-03],\n",
       "       [7.56637105e-01, 2.43362895e-01],\n",
       "       [9.86195293e-01, 1.38047066e-02],\n",
       "       [9.83324755e-01, 1.66752449e-02],\n",
       "       [8.75712499e-01, 1.24287501e-01],\n",
       "       [9.87193941e-01, 1.28060590e-02],\n",
       "       [5.12415266e-01, 4.87584734e-01],\n",
       "       [9.78744989e-01, 2.12550106e-02],\n",
       "       [9.77972702e-01, 2.20272982e-02],\n",
       "       [8.18579049e-02, 9.18142095e-01],\n",
       "       [9.32032890e-01, 6.79671100e-02],\n",
       "       [9.95370979e-01, 4.62902107e-03],\n",
       "       [1.45481488e-01, 8.54518512e-01],\n",
       "       [2.52455336e-01, 7.47544664e-01],\n",
       "       [1.99663239e-01, 8.00336761e-01],\n",
       "       [7.70342553e-01, 2.29657447e-01],\n",
       "       [9.75336831e-01, 2.46631689e-02],\n",
       "       [9.93123876e-01, 6.87612427e-03],\n",
       "       [5.78357110e-01, 4.21642890e-01],\n",
       "       [6.88191593e-01, 3.11808407e-01],\n",
       "       [1.19494401e-01, 8.80505599e-01],\n",
       "       [9.97889504e-01, 2.11049588e-03],\n",
       "       [9.99234078e-01, 7.65921883e-04],\n",
       "       [9.94519755e-01, 5.48024521e-03],\n",
       "       [9.44150670e-01, 5.58493296e-02],\n",
       "       [1.04384186e-01, 8.95615814e-01],\n",
       "       [9.99643722e-01, 3.56277957e-04],\n",
       "       [8.77626659e-02, 9.12237334e-01],\n",
       "       [9.79522332e-01, 2.04776680e-02],\n",
       "       [9.93967815e-01, 6.03218549e-03],\n",
       "       [7.93052980e-01, 2.06947020e-01],\n",
       "       [9.97379410e-01, 2.62059033e-03],\n",
       "       [9.65819625e-01, 3.41803748e-02],\n",
       "       [7.86738292e-01, 2.13261708e-01],\n",
       "       [9.97876155e-01, 2.12384458e-03],\n",
       "       [9.28418921e-01, 7.15810785e-02],\n",
       "       [9.90508190e-01, 9.49180977e-03],\n",
       "       [9.91030064e-01, 8.96993622e-03],\n",
       "       [9.46123559e-01, 5.38764406e-02],\n",
       "       [9.41063541e-01, 5.89364585e-02],\n",
       "       [3.04593903e-01, 6.95406097e-01],\n",
       "       [9.84235298e-01, 1.57647016e-02],\n",
       "       [9.72436623e-01, 2.75633766e-02],\n",
       "       [8.58177396e-01, 1.41822604e-01],\n",
       "       [9.81374667e-01, 1.86253334e-02],\n",
       "       [8.45376157e-01, 1.54623843e-01],\n",
       "       [9.94190650e-01, 5.80935043e-03],\n",
       "       [9.86930906e-01, 1.30690937e-02],\n",
       "       [2.52752202e-01, 7.47247798e-01],\n",
       "       [7.82754432e-01, 2.17245568e-01],\n",
       "       [5.25783188e-02, 9.47421681e-01],\n",
       "       [9.62991743e-01, 3.70082570e-02],\n",
       "       [9.11569979e-01, 8.84300206e-02],\n",
       "       [6.37594999e-01, 3.62405001e-01],\n",
       "       [3.29298040e-01, 6.70701960e-01],\n",
       "       [9.99434087e-01, 5.65912565e-04],\n",
       "       [9.60422741e-01, 3.95772585e-02],\n",
       "       [9.98998976e-01, 1.00102406e-03],\n",
       "       [9.99950417e-01, 4.95831364e-05],\n",
       "       [9.20465177e-01, 7.95348235e-02],\n",
       "       [8.46404796e-01, 1.53595204e-01],\n",
       "       [9.75939194e-01, 2.40608058e-02],\n",
       "       [9.66851861e-01, 3.31481387e-02],\n",
       "       [9.99913913e-01, 8.60874063e-05],\n",
       "       [9.87412722e-01, 1.25872779e-02],\n",
       "       [5.34545600e-02, 9.46545440e-01],\n",
       "       [9.96028172e-01, 3.97182800e-03],\n",
       "       [9.99648219e-01, 3.51780799e-04],\n",
       "       [9.83450609e-01, 1.65493914e-02],\n",
       "       [9.92442819e-01, 7.55718122e-03],\n",
       "       [8.77258402e-01, 1.22741598e-01],\n",
       "       [9.84551737e-01, 1.54482631e-02],\n",
       "       [9.98140839e-01, 1.85916138e-03],\n",
       "       [9.79265883e-01, 2.07341175e-02],\n",
       "       [9.93294802e-01, 6.70519809e-03],\n",
       "       [8.46200264e-01, 1.53799736e-01],\n",
       "       [8.53679274e-01, 1.46320726e-01],\n",
       "       [9.96169905e-01, 3.83009462e-03],\n",
       "       [9.46846838e-01, 5.31531616e-02],\n",
       "       [9.83324755e-01, 1.66752449e-02],\n",
       "       [9.99544424e-01, 4.55575749e-04],\n",
       "       [9.97748156e-01, 2.25184423e-03],\n",
       "       [7.83795287e-01, 2.16204713e-01],\n",
       "       [7.50959079e-02, 9.24904092e-01],\n",
       "       [9.59509199e-01, 4.04908007e-02],\n",
       "       [9.99750204e-01, 2.49796219e-04],\n",
       "       [6.14966955e-01, 3.85033045e-01],\n",
       "       [9.99423224e-01, 5.76776325e-04],\n",
       "       [6.71631873e-01, 3.28368127e-01],\n",
       "       [8.67370827e-01, 1.32629173e-01],\n",
       "       [9.57941412e-01, 4.20585876e-02],\n",
       "       [8.93182848e-01, 1.06817152e-01],\n",
       "       [9.59012605e-01, 4.09873946e-02],\n",
       "       [8.02513287e-01, 1.97486713e-01],\n",
       "       [8.77768513e-01, 1.22231487e-01],\n",
       "       [9.99881229e-01, 1.18770969e-04],\n",
       "       [9.67654585e-01, 3.23454147e-02],\n",
       "       [9.10024248e-01, 8.99757522e-02],\n",
       "       [9.84333036e-01, 1.56669640e-02],\n",
       "       [9.70864781e-01, 2.91352191e-02],\n",
       "       [2.92966121e-01, 7.07033879e-01],\n",
       "       [9.82689203e-01, 1.73107965e-02],\n",
       "       [9.35560659e-01, 6.44393406e-02],\n",
       "       [9.74600819e-01, 2.53991811e-02],\n",
       "       [5.95337661e-02, 9.40466234e-01],\n",
       "       [9.48108008e-01, 5.18919916e-02],\n",
       "       [3.95088043e-01, 6.04911957e-01],\n",
       "       [8.16003557e-01, 1.83996443e-01],\n",
       "       [9.96449576e-01, 3.55042362e-03],\n",
       "       [6.59276118e-01, 3.40723882e-01],\n",
       "       [8.30944414e-01, 1.69055586e-01],\n",
       "       [9.98601519e-01, 1.39848076e-03],\n",
       "       [9.91211332e-01, 8.78866841e-03],\n",
       "       [9.99832729e-01, 1.67270675e-04],\n",
       "       [9.99829517e-01, 1.70483056e-04],\n",
       "       [7.93341566e-01, 2.06658434e-01],\n",
       "       [9.35178694e-01, 6.48213057e-02],\n",
       "       [9.90508190e-01, 9.49180977e-03],\n",
       "       [8.87613775e-01, 1.12386225e-01],\n",
       "       [9.98240715e-01, 1.75928486e-03],\n",
       "       [9.52514177e-01, 4.74858234e-02],\n",
       "       [9.41764397e-01, 5.82356034e-02],\n",
       "       [9.99156378e-01, 8.43621520e-04],\n",
       "       [8.14087971e-01, 1.85912029e-01],\n",
       "       [9.97062896e-01, 2.93710386e-03]])"
      ]
     },
     "execution_count": 81,
     "metadata": {},
     "output_type": "execute_result"
    }
   ],
   "source": [
    "prediction = smote_model.predict_proba(X_test)\n",
    "\n",
    "prediction"
   ]
  },
  {
   "cell_type": "code",
   "execution_count": 88,
   "id": "25dc3f7c",
   "metadata": {},
   "outputs": [
    {
     "data": {
      "text/plain": [
       "array([ True, False, False, False, False, False, False, False, False,\n",
       "       False, False, False, False, False, False, False, False, False,\n",
       "       False, False, False, False, False, False, False, False,  True,\n",
       "       False,  True, False, False, False, False, False, False,  True,\n",
       "        True, False, False, False, False, False, False, False, False,\n",
       "       False, False, False, False, False, False, False, False, False,\n",
       "        True,  True, False,  True, False, False,  True, False, False,\n",
       "       False, False, False, False, False, False, False, False, False,\n",
       "       False, False,  True, False, False, False, False, False, False,\n",
       "       False, False,  True, False,  True,  True, False, False, False,\n",
       "       False, False, False,  True, False, False, False, False,  True,\n",
       "       False, False, False, False, False, False,  True,  True, False,\n",
       "       False, False, False, False, False, False,  True, False, False,\n",
       "       False, False, False, False, False, False,  True, False, False,\n",
       "       False, False, False, False, False, False, False, False, False,\n",
       "       False, False, False,  True, False, False, False, False, False,\n",
       "       False, False, False, False, False, False, False, False, False,\n",
       "        True, False, False, False, False, False,  True, False, False,\n",
       "       False, False, False, False, False, False, False, False, False,\n",
       "       False, False,  True, False, False, False, False, False, False,\n",
       "       False,  True, False, False,  True, False, False,  True,  True,\n",
       "        True, False, False, False,  True, False,  True, False, False,\n",
       "       False, False,  True, False,  True, False, False, False, False,\n",
       "       False, False, False, False, False, False, False, False,  True,\n",
       "       False, False, False, False, False, False, False,  True, False,\n",
       "        True, False, False, False,  True, False, False, False, False,\n",
       "       False, False, False, False, False, False,  True, False, False,\n",
       "       False, False, False, False, False, False, False, False, False,\n",
       "       False, False, False, False, False, False,  True, False, False,\n",
       "       False, False, False, False, False, False, False, False, False,\n",
       "       False, False, False, False, False,  True, False, False, False,\n",
       "        True, False,  True, False, False, False, False, False, False,\n",
       "       False, False, False, False, False, False, False, False, False,\n",
       "       False, False, False])"
      ]
     },
     "execution_count": 88,
     "metadata": {},
     "output_type": "execute_result"
    }
   ],
   "source": [
    "prediction_bin = prediction[:,1] >= 0.4\n",
    "\n",
    "prediction_bin"
   ]
  },
  {
   "cell_type": "code",
   "execution_count": 89,
   "id": "418739ed",
   "metadata": {},
   "outputs": [
    {
     "name": "stdout",
     "output_type": "stream",
     "text": [
      "              precision    recall  f1-score   support\n",
      "\n",
      "           0       0.98      0.89      0.93       285\n",
      "           1       0.22      0.60      0.32        15\n",
      "\n",
      "    accuracy                           0.87       300\n",
      "   macro avg       0.60      0.74      0.63       300\n",
      "weighted avg       0.94      0.87      0.90       300\n",
      "\n"
     ]
    }
   ],
   "source": [
    "print(classification_report(y_test,prediction_bin))"
   ]
  },
  {
   "cell_type": "markdown",
   "id": "521d9c89",
   "metadata": {},
   "source": [
    "# Threshold adjustment on OG data"
   ]
  },
  {
   "cell_type": "code",
   "execution_count": 90,
   "id": "423d6f15",
   "metadata": {},
   "outputs": [
    {
     "data": {
      "text/plain": [
       "array([[8.84317738e-01, 1.15682262e-01],\n",
       "       [9.99052080e-01, 9.47920077e-04],\n",
       "       [9.90028566e-01, 9.97143447e-03],\n",
       "       [9.95181573e-01, 4.81842750e-03],\n",
       "       [9.90270851e-01, 9.72914940e-03],\n",
       "       [9.86146559e-01, 1.38534415e-02],\n",
       "       [9.98753630e-01, 1.24637047e-03],\n",
       "       [9.99533938e-01, 4.66062107e-04],\n",
       "       [9.99830536e-01, 1.69463977e-04],\n",
       "       [9.99775226e-01, 2.24774091e-04],\n",
       "       [9.68435224e-01, 3.15647762e-02],\n",
       "       [9.96817107e-01, 3.18289301e-03],\n",
       "       [9.98986468e-01, 1.01353212e-03],\n",
       "       [9.98753630e-01, 1.24637047e-03],\n",
       "       [9.98598536e-01, 1.40146394e-03],\n",
       "       [9.97845916e-01, 2.15408400e-03],\n",
       "       [9.97697010e-01, 2.30299046e-03],\n",
       "       [9.99062720e-01, 9.37279640e-04],\n",
       "       [9.99972623e-01, 2.73769581e-05],\n",
       "       [9.97624974e-01, 2.37502571e-03],\n",
       "       [9.97828059e-01, 2.17194123e-03],\n",
       "       [9.95735617e-01, 4.26438254e-03],\n",
       "       [9.96710289e-01, 3.28971097e-03],\n",
       "       [9.90996908e-01, 9.00309214e-03],\n",
       "       [9.99992392e-01, 7.60810496e-06],\n",
       "       [8.98370851e-01, 1.01629149e-01],\n",
       "       [9.55222876e-01, 4.47771240e-02],\n",
       "       [9.99807840e-01, 1.92159989e-04],\n",
       "       [7.82299965e-01, 2.17700035e-01],\n",
       "       [9.97460834e-01, 2.53916645e-03],\n",
       "       [9.09039183e-01, 9.09608168e-02],\n",
       "       [9.98743288e-01, 1.25671228e-03],\n",
       "       [9.95017454e-01, 4.98254568e-03],\n",
       "       [9.98472006e-01, 1.52799377e-03],\n",
       "       [9.99133241e-01, 8.66758993e-04],\n",
       "       [9.61657513e-01, 3.83424872e-02],\n",
       "       [7.65173560e-01, 2.34826440e-01],\n",
       "       [9.74876661e-01, 2.51233394e-02],\n",
       "       [9.99955343e-01, 4.46567329e-05],\n",
       "       [9.97031704e-01, 2.96829630e-03],\n",
       "       [9.99229207e-01, 7.70793148e-04],\n",
       "       [9.84144582e-01, 1.58554185e-02],\n",
       "       [9.89104163e-01, 1.08958368e-02],\n",
       "       [9.99258775e-01, 7.41224824e-04],\n",
       "       [9.99918756e-01, 8.12436324e-05],\n",
       "       [9.88358012e-01, 1.16419885e-02],\n",
       "       [9.98693183e-01, 1.30681711e-03],\n",
       "       [9.62879468e-01, 3.71205320e-02],\n",
       "       [9.69682610e-01, 3.03173898e-02],\n",
       "       [9.99457961e-01, 5.42039068e-04],\n",
       "       [9.73611110e-01, 2.63888898e-02],\n",
       "       [9.97773548e-01, 2.22645222e-03],\n",
       "       [9.99644540e-01, 3.55460381e-04],\n",
       "       [9.95235452e-01, 4.76454768e-03],\n",
       "       [7.32060227e-01, 2.67939773e-01],\n",
       "       [7.18105361e-01, 2.81894639e-01],\n",
       "       [9.99220455e-01, 7.79545027e-04],\n",
       "       [3.17573612e-01, 6.82426388e-01],\n",
       "       [9.77165374e-01, 2.28346264e-02],\n",
       "       [9.98522826e-01, 1.47717386e-03],\n",
       "       [8.17976064e-01, 1.82023936e-01],\n",
       "       [9.96836179e-01, 3.16382062e-03],\n",
       "       [9.99640580e-01, 3.59419932e-04],\n",
       "       [9.99750813e-01, 2.49187448e-04],\n",
       "       [9.98153019e-01, 1.84698134e-03],\n",
       "       [9.99166488e-01, 8.33512402e-04],\n",
       "       [9.94748168e-01, 5.25183217e-03],\n",
       "       [9.99899263e-01, 1.00737334e-04],\n",
       "       [9.99203101e-01, 7.96898904e-04],\n",
       "       [9.93064079e-01, 6.93592134e-03],\n",
       "       [9.97381430e-01, 2.61856966e-03],\n",
       "       [9.99870078e-01, 1.29921968e-04],\n",
       "       [9.99848059e-01, 1.51941353e-04],\n",
       "       [9.96174936e-01, 3.82506402e-03],\n",
       "       [9.32366075e-01, 6.76339249e-02],\n",
       "       [9.99737192e-01, 2.62807771e-04],\n",
       "       [9.99175666e-01, 8.24334316e-04],\n",
       "       [9.62879468e-01, 3.71205320e-02],\n",
       "       [9.99747279e-01, 2.52721298e-04],\n",
       "       [9.98559019e-01, 1.44098121e-03],\n",
       "       [9.97293500e-01, 2.70650034e-03],\n",
       "       [9.87898865e-01, 1.21011350e-02],\n",
       "       [9.99154948e-01, 8.45051955e-04],\n",
       "       [4.84222436e-01, 5.15777564e-01],\n",
       "       [9.97410775e-01, 2.58922473e-03],\n",
       "       [9.19377339e-01, 8.06226612e-02],\n",
       "       [7.04348273e-01, 2.95651727e-01],\n",
       "       [9.99346279e-01, 6.53721180e-04],\n",
       "       [9.97315740e-01, 2.68425991e-03],\n",
       "       [9.97828059e-01, 2.17194123e-03],\n",
       "       [9.99670375e-01, 3.29625206e-04],\n",
       "       [9.85949793e-01, 1.40502068e-02],\n",
       "       [9.95700341e-01, 4.29965863e-03],\n",
       "       [7.00256156e-01, 2.99743844e-01],\n",
       "       [9.96597324e-01, 3.40267596e-03],\n",
       "       [9.99923389e-01, 7.66108416e-05],\n",
       "       [9.94128437e-01, 5.87156325e-03],\n",
       "       [9.98743288e-01, 1.25671228e-03],\n",
       "       [9.63764869e-01, 3.62351307e-02],\n",
       "       [9.96248797e-01, 3.75120275e-03],\n",
       "       [9.82963938e-01, 1.70360617e-02],\n",
       "       [9.99792149e-01, 2.07851000e-04],\n",
       "       [9.85601465e-01, 1.43985345e-02],\n",
       "       [9.99686585e-01, 3.13414837e-04],\n",
       "       [9.99166488e-01, 8.33512402e-04],\n",
       "       [8.35200161e-01, 1.64799839e-01],\n",
       "       [8.07788313e-01, 1.92211687e-01],\n",
       "       [9.98660064e-01, 1.33993562e-03],\n",
       "       [9.99899241e-01, 1.00759251e-04],\n",
       "       [9.30782579e-01, 6.92174206e-02],\n",
       "       [9.98869695e-01, 1.13030530e-03],\n",
       "       [9.95677721e-01, 4.32227880e-03],\n",
       "       [9.95299245e-01, 4.70075526e-03],\n",
       "       [9.99815216e-01, 1.84784453e-04],\n",
       "       [3.08551777e-01, 6.91448223e-01],\n",
       "       [9.99647544e-01, 3.52455923e-04],\n",
       "       [9.99088437e-01, 9.11563202e-04],\n",
       "       [9.99088437e-01, 9.11563202e-04],\n",
       "       [9.99498759e-01, 5.01241286e-04],\n",
       "       [9.70420040e-01, 2.95799596e-02],\n",
       "       [9.96710289e-01, 3.28971097e-03],\n",
       "       [9.93981633e-01, 6.01836667e-03],\n",
       "       [9.99239979e-01, 7.60020508e-04],\n",
       "       [5.50481091e-01, 4.49518909e-01],\n",
       "       [9.99556855e-01, 4.43144993e-04],\n",
       "       [9.99545467e-01, 4.54532853e-04],\n",
       "       [9.96913569e-01, 3.08643071e-03],\n",
       "       [9.99297173e-01, 7.02827403e-04],\n",
       "       [9.98361367e-01, 1.63863313e-03],\n",
       "       [9.95479867e-01, 4.52013305e-03],\n",
       "       [9.99958706e-01, 4.12939974e-05],\n",
       "       [9.98652265e-01, 1.34773514e-03],\n",
       "       [9.94748168e-01, 5.25183217e-03],\n",
       "       [9.98814870e-01, 1.18512968e-03],\n",
       "       [9.98974963e-01, 1.02503732e-03],\n",
       "       [9.99340851e-01, 6.59148705e-04],\n",
       "       [9.77165374e-01, 2.28346264e-02],\n",
       "       [9.95944547e-01, 4.05545295e-03],\n",
       "       [7.80369505e-01, 2.19630495e-01],\n",
       "       [9.98030145e-01, 1.96985457e-03],\n",
       "       [9.97016067e-01, 2.98393327e-03],\n",
       "       [9.99773359e-01, 2.26641087e-04],\n",
       "       [9.94819572e-01, 5.18042811e-03],\n",
       "       [9.99229207e-01, 7.70793148e-04],\n",
       "       [9.98142273e-01, 1.85772678e-03],\n",
       "       [9.99623051e-01, 3.76949331e-04],\n",
       "       [9.99418671e-01, 5.81328737e-04],\n",
       "       [9.56515886e-01, 4.34841136e-02],\n",
       "       [9.96836179e-01, 3.16382062e-03],\n",
       "       [9.97605290e-01, 2.39471013e-03],\n",
       "       [9.28952510e-01, 7.10474903e-02],\n",
       "       [9.93292105e-01, 6.70789542e-03],\n",
       "       [9.98693183e-01, 1.30681711e-03],\n",
       "       [9.30247634e-01, 6.97523662e-02],\n",
       "       [9.99921226e-01, 7.87739949e-05],\n",
       "       [9.95783328e-01, 4.21667181e-03],\n",
       "       [9.99914361e-01, 8.56386943e-05],\n",
       "       [9.99471540e-01, 5.28459987e-04],\n",
       "       [9.97558072e-01, 2.44192750e-03],\n",
       "       [9.35976148e-01, 6.40238518e-02],\n",
       "       [9.94013076e-01, 5.98692358e-03],\n",
       "       [9.99749360e-01, 2.50639515e-04],\n",
       "       [9.82098292e-01, 1.79017084e-02],\n",
       "       [9.94176534e-01, 5.82346606e-03],\n",
       "       [9.98718480e-01, 1.28152016e-03],\n",
       "       [9.99579681e-01, 4.20318652e-04],\n",
       "       [9.70252757e-01, 2.97472426e-02],\n",
       "       [9.63281224e-01, 3.67187760e-02],\n",
       "       [9.99633479e-01, 3.66521490e-04],\n",
       "       [9.99128665e-01, 8.71334748e-04],\n",
       "       [9.97432054e-01, 2.56794552e-03],\n",
       "       [9.99900373e-01, 9.96272765e-05],\n",
       "       [9.99915513e-01, 8.44867618e-05],\n",
       "       [9.03100483e-01, 9.68995166e-02],\n",
       "       [9.96790748e-01, 3.20925158e-03],\n",
       "       [9.98753630e-01, 1.24637047e-03],\n",
       "       [9.61871232e-01, 3.81287684e-02],\n",
       "       [9.97168784e-01, 2.83121604e-03],\n",
       "       [9.98667387e-01, 1.33261275e-03],\n",
       "       [9.83201806e-01, 1.67981936e-02],\n",
       "       [9.97381430e-01, 2.61856966e-03],\n",
       "       [9.68257083e-01, 3.17429168e-02],\n",
       "       [9.98281929e-01, 1.71807106e-03],\n",
       "       [9.95389937e-01, 4.61006280e-03],\n",
       "       [6.26160439e-01, 3.73839561e-01],\n",
       "       [9.91461476e-01, 8.53852383e-03],\n",
       "       [9.99647544e-01, 3.52455923e-04],\n",
       "       [7.65173560e-01, 2.34826440e-01],\n",
       "       [8.68284798e-01, 1.31715202e-01],\n",
       "       [6.50654574e-01, 3.49345426e-01],\n",
       "       [9.90163503e-01, 9.83649710e-03],\n",
       "       [9.97991288e-01, 2.00871177e-03],\n",
       "       [9.98625663e-01, 1.37433736e-03],\n",
       "       [9.75680284e-01, 2.43197156e-02],\n",
       "       [9.84949338e-01, 1.50506617e-02],\n",
       "       [4.98896817e-01, 5.01103183e-01],\n",
       "       [9.99415601e-01, 5.84398544e-04],\n",
       "       [9.99633399e-01, 3.66601212e-04],\n",
       "       [9.98913039e-01, 1.08696077e-03],\n",
       "       [9.93103994e-01, 6.89600559e-03],\n",
       "       [4.59837874e-01, 5.40162126e-01],\n",
       "       [9.99907388e-01, 9.26122616e-05],\n",
       "       [6.44298724e-01, 3.55701276e-01],\n",
       "       [9.98347776e-01, 1.65222438e-03],\n",
       "       [9.98291868e-01, 1.70813203e-03],\n",
       "       [9.91412135e-01, 8.58786466e-03],\n",
       "       [9.99277341e-01, 7.22659380e-04],\n",
       "       [9.95923206e-01, 4.07679363e-03],\n",
       "       [9.91072352e-01, 8.92764808e-03],\n",
       "       [9.99591220e-01, 4.08780433e-04],\n",
       "       [9.93635573e-01, 6.36442730e-03],\n",
       "       [9.99258775e-01, 7.41224824e-04],\n",
       "       [9.99301016e-01, 6.98983948e-04],\n",
       "       [9.93366972e-01, 6.63302832e-03],\n",
       "       [9.92689996e-01, 7.31000431e-03],\n",
       "       [9.25358047e-01, 7.46419527e-02],\n",
       "       [9.98743288e-01, 1.25671228e-03],\n",
       "       [9.97741546e-01, 2.25845351e-03],\n",
       "       [9.80410169e-01, 1.95898308e-02],\n",
       "       [9.96131639e-01, 3.86836100e-03],\n",
       "       [9.84822943e-01, 1.51770566e-02],\n",
       "       [9.99554273e-01, 4.45726787e-04],\n",
       "       [9.98966455e-01, 1.03354452e-03],\n",
       "       [7.18105361e-01, 2.81894639e-01],\n",
       "       [9.42202790e-01, 5.77972099e-02],\n",
       "       [2.84075317e-01, 7.15924683e-01],\n",
       "       [9.96913569e-01, 3.08643071e-03],\n",
       "       [9.88581086e-01, 1.14189140e-02],\n",
       "       [9.52370395e-01, 4.76296047e-02],\n",
       "       [9.33075124e-01, 6.69248760e-02],\n",
       "       [9.99896396e-01, 1.03604179e-04],\n",
       "       [9.95235452e-01, 4.76454768e-03],\n",
       "       [9.99813640e-01, 1.86359887e-04],\n",
       "       [9.99991540e-01, 8.46001599e-06],\n",
       "       [9.74109351e-01, 2.58906492e-02],\n",
       "       [9.46053254e-01, 5.39467464e-02],\n",
       "       [9.97185755e-01, 2.81424501e-03],\n",
       "       [9.97254618e-01, 2.74538248e-03],\n",
       "       [9.99985076e-01, 1.49237896e-05],\n",
       "       [9.99006093e-01, 9.93906836e-04],\n",
       "       [5.11505988e-01, 4.88494012e-01],\n",
       "       [9.99220455e-01, 7.79545027e-04],\n",
       "       [9.99936484e-01, 6.35163339e-05],\n",
       "       [9.98663645e-01, 1.33635489e-03],\n",
       "       [9.98484577e-01, 1.51542289e-03],\n",
       "       [9.70570937e-01, 2.94290631e-02],\n",
       "       [9.96817107e-01, 3.18289301e-03],\n",
       "       [9.98686002e-01, 1.31399842e-03],\n",
       "       [9.97592667e-01, 2.40733275e-03],\n",
       "       [9.98074035e-01, 1.92596483e-03],\n",
       "       [9.78439506e-01, 2.15604941e-02],\n",
       "       [9.48972734e-01, 5.10272656e-02],\n",
       "       [9.99710180e-01, 2.89819979e-04],\n",
       "       [9.88288431e-01, 1.17115691e-02],\n",
       "       [9.98667387e-01, 1.33261275e-03],\n",
       "       [9.99916228e-01, 8.37724624e-05],\n",
       "       [9.99832440e-01, 1.67560273e-04],\n",
       "       [9.76780441e-01, 2.32195592e-02],\n",
       "       [3.69845648e-01, 6.30154352e-01],\n",
       "       [9.91241989e-01, 8.75801146e-03],\n",
       "       [9.99955343e-01, 4.46567329e-05],\n",
       "       [9.79131604e-01, 2.08683959e-02],\n",
       "       [9.99894348e-01, 1.05651764e-04],\n",
       "       [9.83743573e-01, 1.62564268e-02],\n",
       "       [9.54368732e-01, 4.56312684e-02],\n",
       "       [9.96461963e-01, 3.53803677e-03],\n",
       "       [9.85876604e-01, 1.41233962e-02],\n",
       "       [9.87280730e-01, 1.27192699e-02],\n",
       "       [9.79299991e-01, 2.07000094e-02],\n",
       "       [9.83522033e-01, 1.64779673e-02],\n",
       "       [9.99946137e-01, 5.38633606e-05],\n",
       "       [9.96154803e-01, 3.84519703e-03],\n",
       "       [9.88358012e-01, 1.16419885e-02],\n",
       "       [9.98204040e-01, 1.79595993e-03],\n",
       "       [9.97605290e-01, 2.39471013e-03],\n",
       "       [8.18759383e-01, 1.81240617e-01],\n",
       "       [9.98614260e-01, 1.38573951e-03],\n",
       "       [9.91944487e-01, 8.05551309e-03],\n",
       "       [9.92314691e-01, 7.68530865e-03],\n",
       "       [5.40776496e-01, 4.59223504e-01],\n",
       "       [9.83655584e-01, 1.63444157e-02],\n",
       "       [9.49237800e-01, 5.07621996e-02],\n",
       "       [9.81245260e-01, 1.87547398e-02],\n",
       "       [9.99731999e-01, 2.68000940e-04],\n",
       "       [9.56618170e-01, 4.33818296e-02],\n",
       "       [9.82916853e-01, 1.70831467e-02],\n",
       "       [9.99734207e-01, 2.65793325e-04],\n",
       "       [9.98228157e-01, 1.77184310e-03],\n",
       "       [9.99923389e-01, 7.66108416e-05],\n",
       "       [9.99921875e-01, 7.81249849e-05],\n",
       "       [9.23608566e-01, 7.63914340e-02],\n",
       "       [9.94352569e-01, 5.64743065e-03],\n",
       "       [9.99258775e-01, 7.41224824e-04],\n",
       "       [9.85035250e-01, 1.49647500e-02],\n",
       "       [9.99870078e-01, 1.29921968e-04],\n",
       "       [9.98424516e-01, 1.57548391e-03],\n",
       "       [9.94975180e-01, 5.02482025e-03],\n",
       "       [9.99843735e-01, 1.56265166e-04],\n",
       "       [9.72886150e-01, 2.71138504e-02],\n",
       "       [9.99779630e-01, 2.20370422e-04]])"
      ]
     },
     "execution_count": 90,
     "metadata": {},
     "output_type": "execute_result"
    }
   ],
   "source": [
    "prediction = logi.predict_proba(X_test)\n",
    "\n",
    "prediction"
   ]
  },
  {
   "cell_type": "code",
   "execution_count": 97,
   "id": "f85f4a59",
   "metadata": {},
   "outputs": [
    {
     "data": {
      "text/plain": [
       "array([False, False, False, False, False, False, False, False, False,\n",
       "       False, False, False, False, False, False, False, False, False,\n",
       "       False, False, False, False, False, False, False, False, False,\n",
       "       False, False, False, False, False, False, False, False, False,\n",
       "       False, False, False, False, False, False, False, False, False,\n",
       "       False, False, False, False, False, False, False, False, False,\n",
       "       False, False, False,  True, False, False, False, False, False,\n",
       "       False, False, False, False, False, False, False, False, False,\n",
       "       False, False, False, False, False, False, False, False, False,\n",
       "       False, False,  True, False, False, False, False, False, False,\n",
       "       False, False, False, False, False, False, False, False, False,\n",
       "       False, False, False, False, False, False, False, False, False,\n",
       "       False, False, False, False, False, False,  True, False, False,\n",
       "       False, False, False, False, False, False,  True, False, False,\n",
       "       False, False, False, False, False, False, False, False, False,\n",
       "       False, False, False, False, False, False, False, False, False,\n",
       "       False, False, False, False, False, False, False, False, False,\n",
       "       False, False, False, False, False, False, False, False, False,\n",
       "       False, False, False, False, False, False, False, False, False,\n",
       "       False, False, False, False, False, False, False, False, False,\n",
       "       False, False, False, False, False, False, False, False, False,\n",
       "       False, False, False, False, False, False,  True, False, False,\n",
       "       False, False,  True, False, False, False, False, False, False,\n",
       "       False, False, False, False, False, False, False, False, False,\n",
       "       False, False, False, False, False, False, False, False, False,\n",
       "        True, False, False, False, False, False, False, False, False,\n",
       "       False, False, False, False, False, False,  True, False, False,\n",
       "       False, False, False, False, False, False, False, False, False,\n",
       "       False, False, False, False, False, False,  True, False, False,\n",
       "       False, False, False, False, False, False, False, False, False,\n",
       "       False, False, False, False, False, False, False, False, False,\n",
       "        True, False, False, False, False, False, False, False, False,\n",
       "       False, False, False, False, False, False, False, False, False,\n",
       "       False, False, False])"
      ]
     },
     "execution_count": 97,
     "metadata": {},
     "output_type": "execute_result"
    }
   ],
   "source": [
    "prediction_bin = prediction[:,1] >= 0.4\n",
    "\n",
    "prediction_bin"
   ]
  },
  {
   "cell_type": "code",
   "execution_count": 98,
   "id": "fba258df",
   "metadata": {},
   "outputs": [
    {
     "name": "stdout",
     "output_type": "stream",
     "text": [
      "              precision    recall  f1-score   support\n",
      "\n",
      "           0       0.96      0.98      0.97       285\n",
      "           1       0.40      0.27      0.32        15\n",
      "\n",
      "    accuracy                           0.94       300\n",
      "   macro avg       0.68      0.62      0.65       300\n",
      "weighted avg       0.93      0.94      0.94       300\n",
      "\n"
     ]
    }
   ],
   "source": [
    "print(classification_report(y_test,prediction_bin))"
   ]
  },
  {
   "cell_type": "markdown",
   "id": "d8486e8c",
   "metadata": {},
   "source": [
    "# Class weight adjustment"
   ]
  },
  {
   "cell_type": "code",
   "execution_count": 114,
   "id": "040c81cf",
   "metadata": {},
   "outputs": [
    {
     "data": {
      "text/plain": [
       "LogisticRegression(class_weight={0: 0.8, 1: 10}, random_state=42)"
      ]
     },
     "execution_count": 114,
     "metadata": {},
     "output_type": "execute_result"
    }
   ],
   "source": [
    "model_cw = LogisticRegression(class_weight={0:0.8,1:10}, random_state=42)\n",
    "\n",
    "model_cw.fit(X_train,y_train)"
   ]
  },
  {
   "cell_type": "code",
   "execution_count": 115,
   "id": "fad8a011",
   "metadata": {},
   "outputs": [
    {
     "data": {
      "text/plain": [
       "array([1, 0, 0, 0, 0, 0, 0, 0, 0, 0, 0, 0, 0, 0, 0, 0, 0, 0, 0, 0, 0, 0,\n",
       "       0, 0, 0, 0, 0, 0, 1, 0, 0, 0, 0, 0, 0, 0, 1, 0, 0, 0, 0, 0, 0, 0,\n",
       "       0, 0, 0, 0, 0, 0, 0, 0, 0, 0, 1, 1, 0, 1, 0, 0, 1, 0, 0, 0, 0, 0,\n",
       "       0, 0, 0, 0, 0, 0, 0, 0, 0, 0, 0, 0, 0, 0, 0, 0, 0, 1, 0, 0, 1, 0,\n",
       "       0, 0, 0, 0, 0, 1, 0, 0, 0, 0, 0, 0, 0, 0, 0, 0, 0, 1, 1, 0, 0, 0,\n",
       "       0, 0, 0, 0, 1, 0, 0, 0, 0, 0, 0, 0, 0, 1, 0, 0, 0, 0, 0, 0, 0, 0,\n",
       "       0, 0, 0, 0, 0, 0, 1, 0, 0, 0, 0, 0, 0, 0, 0, 0, 0, 0, 0, 0, 0, 0,\n",
       "       0, 0, 0, 0, 0, 0, 0, 0, 0, 0, 0, 0, 0, 0, 0, 0, 0, 0, 0, 0, 0, 0,\n",
       "       0, 0, 0, 0, 0, 0, 0, 0, 1, 0, 0, 1, 1, 1, 0, 0, 0, 0, 0, 1, 0, 0,\n",
       "       0, 0, 1, 0, 1, 0, 0, 0, 0, 0, 0, 0, 0, 0, 0, 0, 0, 0, 0, 0, 0, 0,\n",
       "       0, 0, 0, 1, 0, 1, 0, 0, 0, 0, 0, 0, 0, 0, 0, 0, 0, 0, 0, 0, 1, 0,\n",
       "       0, 0, 0, 0, 0, 0, 0, 0, 0, 0, 0, 0, 0, 0, 0, 0, 1, 0, 0, 0, 0, 0,\n",
       "       0, 0, 0, 0, 0, 0, 0, 0, 0, 0, 0, 1, 0, 0, 0, 1, 0, 0, 0, 0, 0, 0,\n",
       "       0, 0, 0, 0, 0, 0, 0, 0, 0, 0, 0, 0, 0, 0], dtype=int64)"
      ]
     },
     "execution_count": 115,
     "metadata": {},
     "output_type": "execute_result"
    }
   ],
   "source": [
    "y_pred1 = model_cw.predict(X_test)\n",
    "\n",
    "y_pred1"
   ]
  },
  {
   "cell_type": "code",
   "execution_count": 116,
   "id": "443b8f26",
   "metadata": {},
   "outputs": [
    {
     "name": "stdout",
     "output_type": "stream",
     "text": [
      "              precision    recall  f1-score   support\n",
      "\n",
      "           0       0.98      0.93      0.96       285\n",
      "           1       0.32      0.60      0.42        15\n",
      "\n",
      "    accuracy                           0.92       300\n",
      "   macro avg       0.65      0.77      0.69       300\n",
      "weighted avg       0.95      0.92      0.93       300\n",
      "\n"
     ]
    }
   ],
   "source": [
    "from sklearn.metrics import classification_report\n",
    "\n",
    "print(classification_report(y_test,y_pred1))"
   ]
  },
  {
   "cell_type": "code",
   "execution_count": null,
   "id": "ed5ffe5c",
   "metadata": {},
   "outputs": [],
   "source": []
  },
  {
   "cell_type": "code",
   "execution_count": null,
   "id": "86e3ff38",
   "metadata": {},
   "outputs": [],
   "source": []
  },
  {
   "cell_type": "code",
   "execution_count": null,
   "id": "2dc467e7",
   "metadata": {},
   "outputs": [],
   "source": []
  },
  {
   "cell_type": "code",
   "execution_count": null,
   "id": "3f73aef6",
   "metadata": {},
   "outputs": [],
   "source": []
  },
  {
   "cell_type": "code",
   "execution_count": null,
   "id": "bfd0f174",
   "metadata": {},
   "outputs": [],
   "source": []
  },
  {
   "cell_type": "code",
   "execution_count": null,
   "id": "9e62a677",
   "metadata": {},
   "outputs": [],
   "source": []
  },
  {
   "cell_type": "code",
   "execution_count": null,
   "id": "d98bcadd",
   "metadata": {},
   "outputs": [],
   "source": []
  },
  {
   "cell_type": "code",
   "execution_count": null,
   "id": "8e36b941",
   "metadata": {},
   "outputs": [],
   "source": []
  },
  {
   "cell_type": "code",
   "execution_count": null,
   "id": "c7e7c09a",
   "metadata": {},
   "outputs": [],
   "source": []
  },
  {
   "cell_type": "code",
   "execution_count": null,
   "id": "c15abcbb",
   "metadata": {},
   "outputs": [],
   "source": [
    "\n"
   ]
  },
  {
   "cell_type": "code",
   "execution_count": null,
   "id": "e24c9ebb",
   "metadata": {},
   "outputs": [],
   "source": []
  }
 ],
 "metadata": {
  "kernelspec": {
   "display_name": "Python 3 (ipykernel)",
   "language": "python",
   "name": "python3"
  },
  "language_info": {
   "codemirror_mode": {
    "name": "ipython",
    "version": 3
   },
   "file_extension": ".py",
   "mimetype": "text/x-python",
   "name": "python",
   "nbconvert_exporter": "python",
   "pygments_lexer": "ipython3",
   "version": "3.9.7"
  }
 },
 "nbformat": 4,
 "nbformat_minor": 5
}
